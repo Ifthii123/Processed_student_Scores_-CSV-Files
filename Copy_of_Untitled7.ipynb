{
  "nbformat": 4,
  "nbformat_minor": 0,
  "metadata": {
    "colab": {
      "provenance": [],
      "mount_file_id": "1c_v8vdnwjoRTPeMOo6x1r79ANRveJZJ1",
      "authorship_tag": "ABX9TyP1u50N9uBV5iYeyU37/LTn",
      "include_colab_link": true
    },
    "kernelspec": {
      "name": "python3",
      "display_name": "Python 3"
    },
    "language_info": {
      "name": "python"
    }
  },
  "cells": [
    {
      "cell_type": "markdown",
      "metadata": {
        "id": "view-in-github",
        "colab_type": "text"
      },
      "source": [
        "<a href=\"https://colab.research.google.com/github/Ifthii123/Processed_student_Scores_-CSV-Files/blob/main/Copy_of_Untitled7.ipynb\" target=\"_parent\"><img src=\"https://colab.research.google.com/assets/colab-badge.svg\" alt=\"Open In Colab\"/></a>"
      ]
    },
    {
      "cell_type": "code",
      "execution_count": 2,
      "metadata": {
        "id": "S_mSXT8Q56pQ",
        "colab": {
          "base_uri": "https://localhost:8080/",
          "height": 141
        },
        "outputId": "75b07b1e-c3ae-4e25-d0af-806bcc9d699d"
      },
      "outputs": [
        {
          "output_type": "error",
          "ename": "IndentationError",
          "evalue": "unexpected indent (<ipython-input-2-1eefc3194060>, line 2)",
          "traceback": [
            "\u001b[0;36m  File \u001b[0;32m\"<ipython-input-2-1eefc3194060>\"\u001b[0;36m, line \u001b[0;32m2\u001b[0m\n\u001b[0;31m    data=[\u001b[0m\n\u001b[0m    ^\u001b[0m\n\u001b[0;31mIndentationError\u001b[0m\u001b[0;31m:\u001b[0m unexpected indent\n"
          ]
        }
      ],
      "source": [
        " import csv\n",
        "    data=[\n",
        "    [\"name\",\"math\",\"science\",\"english\",],\n",
        "    [\"Alex\",80,78,85,],\n",
        "    [\"George\",75,60,74,],\n",
        "    [\"Ali\", 60,85,90,],\n",
        "    [\"Simon\",75,85,80,],\n",
        "    [\"Jack\",60,78,90,],\n",
        "]\n",
        "\n",
        "# save the raw data\n",
        "    with open (\"raw_student_scores.csv\",\"w\",newline=\"\") as file:\n",
        "    writer=csv.writer(file)\n",
        "    writer.writerows(data)\n",
        "    print(\"Raw CSV files saved successfully\")"
      ]
    },
    {
      "cell_type": "code",
      "source": [
        "from google.colab import files\n",
        "files.download('raw_student_scores.csv')\n",
        "\n"
      ],
      "metadata": {
        "id": "5aNrp71mkAt_",
        "collapsed": true
      },
      "execution_count": null,
      "outputs": []
    },
    {
      "cell_type": "code",
      "source": [
        "\n"
      ],
      "metadata": {
        "id": "kyW4uj7nJeHP"
      },
      "execution_count": null,
      "outputs": []
    },
    {
      "cell_type": "code",
      "source": [
        "\n",
        "\n",
        "import csv\n",
        "def get_grade(score):\n",
        "    if score >= 90:\n",
        "        return \"A\"\n",
        "    elif score >= 80:\n",
        "        return \"B\"\n",
        "    elif score >= 70:\n",
        "        return \"C\"\n",
        "    elif score >= 60:\n",
        "        return \"D\"\n",
        "    elif score >= 50:\n",
        "        return \"E\"\n",
        "    else:\n",
        "        return \"F\"\n",
        "\n",
        "processed_data = [[\"name\", \"math\", \"science\", \"english\", \"average\", \"grade\", \"math_grade\", \"science_grade\", \"english_grade\", \"min_score\", \"max_score\", \"score_range\", \"pass_fail\"]]\n",
        "\n",
        "for row in data[1:]:\n",
        "    name, math, science, english = row\n",
        "\n",
        "    avg_score = (math + science + english) / 3\n",
        "    overall_grade = get_grade(avg_score)\n",
        "    math_grade = get_grade(math)\n",
        "    science_grade = get_grade(science)\n",
        "    english_grade = get_grade(english)\n",
        "    min_score = min(math, science, english)\n",
        "    max_score = max(math, science, english)\n",
        "    score_range = max_score - min_score\n",
        "    pass_fail = \"Congratulations, you passed!\" if avg_score >= 50 else \"Fail\"\n",
        "\n",
        "    processed_data.append([name, math, science, english, avg_score, overall_grade, math_grade, science_grade, english_grade, min_score, max_score, score_range, pass_fail])\n",
        "\n",
        "# Save the processed data\n",
        "with open(\"processed_student_scores.csv\", \"w\", newline=\"\") as file:\n",
        "    writer = csv.writer(file)\n",
        "    writer.writerows(processed_data)\n",
        "\n",
        "print(\"Processed CSV file saved successfully\")\n",
        "\n",
        "\n",
        "\n",
        "with open (\"processed_student_scores.csv\",\"w\",newline=\"\") as file:\n",
        "      writer=csv.writer(file)\n",
        "      writer.writerows(processed_data)\n",
        "      print (\"processed csv file saved successfully\")\n",
        "\n",
        "\n",
        "\n"
      ],
      "metadata": {
        "id": "VwExlr616UVx"
      },
      "execution_count": null,
      "outputs": []
    },
    {
      "cell_type": "code",
      "source": [
        "\n"
      ],
      "metadata": {
        "id": "JWkWHMxuAZeF"
      },
      "execution_count": null,
      "outputs": []
    }
  ]
}